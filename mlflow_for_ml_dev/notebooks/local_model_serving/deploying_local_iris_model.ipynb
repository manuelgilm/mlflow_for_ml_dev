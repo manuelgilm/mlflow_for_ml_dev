{
 "cells": [
  {
   "cell_type": "markdown",
   "id": "7e44f382",
   "metadata": {},
   "source": [
    "# Local Model Serving with MLflow"
   ]
  },
  {
   "cell_type": "code",
   "execution_count": 37,
   "id": "f7c4b8ed",
   "metadata": {},
   "outputs": [],
   "source": [
    "import httpx \n",
    "import json\n",
    "import mlflow\n",
    "from mlflow_for_ml_dev.src.utils.folder_operations import get_project_root\n",
    "\n",
    "# set mlflow tracking uri\n",
    "mlflow.set_tracking_uri(uri=(get_project_root() / 'mlruns').as_uri())"
   ]
  },
  {
   "cell_type": "markdown",
   "id": "94833c27",
   "metadata": {},
   "source": [
    "```shell\n",
    "mlflow models serve --options\n",
    "```\n",
    "\n",
    "To run the code below make sure you deploy the model using.\n",
    "\n",
    "`poetry run mlflow models serve --model-uri models:/Iris_Classifier_Model@production --env-manager local`"
   ]
  },
  {
   "cell_type": "markdown",
   "id": "358ba627",
   "metadata": {},
   "source": [
    "## Scoring Iris Classifier Model"
   ]
  },
  {
   "cell_type": "code",
   "execution_count": 50,
   "id": "096a2fa0",
   "metadata": {},
   "outputs": [],
   "source": [
    "url = \"http://127.0.0.1:5001/invocations\"\n",
    "\n",
    "payload = {'dataframe_split':\n",
    "            {\n",
    "                'columns': ['sepal length (cm)', 'sepal width (cm)', 'petal length (cm)', 'petal width (cm)'], \n",
    "                'data': [[6.1, 2.8, 4.7, 1.2]]\n",
    "            }\n",
    "        } \n",
    "headers = {\"Content-Type\": \"application/json\"}\n",
    "response = httpx.post(url, data=json.dumps(payload), headers=headers)\n"
   ]
  },
  {
   "cell_type": "code",
   "execution_count": 51,
   "id": "4cee092a",
   "metadata": {},
   "outputs": [
    {
     "data": {
      "text/plain": [
       "<Response [200 OK]>"
      ]
     },
     "execution_count": 51,
     "metadata": {},
     "output_type": "execute_result"
    }
   ],
   "source": [
    "response"
   ]
  },
  {
   "cell_type": "markdown",
   "id": "2ce72d97",
   "metadata": {},
   "source": [
    "## Signature validation"
   ]
  },
  {
   "cell_type": "code",
   "execution_count": 52,
   "id": "cba325a0",
   "metadata": {},
   "outputs": [],
   "source": [
    "url = \"http://127.0.0.1:5001/invocations\"\n",
    "\n",
    "payload = {'dataframe_split':\n",
    "            {\n",
    "                'columns': ['sepal length (cm)', 'sepal width (cm)', 'petal length (cm)', 'petal width (cm)'], \n",
    "                'data': [[6.1, 2.8, 4.7, \"string\"]] # invalid data type\n",
    "            }\n",
    "        } \n",
    "headers = {\"Content-Type\": \"application/json\"}\n",
    "response = httpx.post(url, data=json.dumps(payload), headers=headers)"
   ]
  },
  {
   "cell_type": "code",
   "execution_count": 53,
   "id": "dadf245c",
   "metadata": {},
   "outputs": [
    {
     "data": {
      "text/plain": [
       "<Response [400 BAD REQUEST]>"
      ]
     },
     "execution_count": 53,
     "metadata": {},
     "output_type": "execute_result"
    }
   ],
   "source": [
    "response"
   ]
  },
  {
   "cell_type": "code",
   "execution_count": 54,
   "id": "da6b0d77",
   "metadata": {},
   "outputs": [
    {
     "data": {
      "text/plain": [
       "{'error_code': 'BAD_REQUEST',\n",
       " 'message': 'Invalid input. Data is not compatible with model signature. Failed to convert column petal width (cm) to type \\'float64\\'. Error: \\'ValueError(\"could not convert string to float: \\'string\\'\")\\''}"
      ]
     },
     "execution_count": 54,
     "metadata": {},
     "output_type": "execute_result"
    }
   ],
   "source": [
    "response.json()"
   ]
  },
  {
   "cell_type": "code",
   "execution_count": null,
   "id": "0b064f0c",
   "metadata": {},
   "outputs": [],
   "source": []
  }
 ],
 "metadata": {
  "kernelspec": {
   "display_name": ".venv",
   "language": "python",
   "name": "python3"
  },
  "language_info": {
   "codemirror_mode": {
    "name": "ipython",
    "version": 3
   },
   "file_extension": ".py",
   "mimetype": "text/x-python",
   "name": "python",
   "nbconvert_exporter": "python",
   "pygments_lexer": "ipython3",
   "version": "3.11.9"
  }
 },
 "nbformat": 4,
 "nbformat_minor": 5
}
