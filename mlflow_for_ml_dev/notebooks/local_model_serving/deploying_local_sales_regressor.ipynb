{
 "cells": [
  {
   "cell_type": "markdown",
   "id": "e1c06346",
   "metadata": {},
   "source": [
    "# Local Model Serving with MLflow"
   ]
  },
  {
   "cell_type": "code",
   "execution_count": null,
   "id": "9e756cab",
   "metadata": {},
   "outputs": [],
   "source": [
    "import httpx \n",
    "import pandas as pd\n",
    "import mlflow\n",
    "from examples.walmart_sales_regression.data import SalesDataProcessor\n",
    "from examples.utils.file_utils import get_root_dir\n",
    "from examples.utils.file_utils import read_file\n",
    "\n",
    "# set mlflow tracking uri\n",
    "mlflow.set_tracking_uri(uri=(get_root_dir() / 'mlruns').as_uri())"
   ]
  },
  {
   "cell_type": "markdown",
   "id": "3f359a90",
   "metadata": {},
   "source": [
    "```shell\n",
    "mlflow models serve --options\n",
    "```\n",
    "\n",
    "To run the code below make sure you deploy the model using.\n",
    "\n",
    "`poetry run mlflow models serve -m models:/walmart-store-sales-regressor@production --env-manager local`"
   ]
  },
  {
   "cell_type": "code",
   "execution_count": null,
   "id": "37a4c0db",
   "metadata": {},
   "outputs": [],
   "source": [
    "root_dir = get_root_dir()\n",
    "configs = read_file(\n",
    "    root_dir / \"examples\" / \"walmart_sales_regression\" / \"configs.yaml\"\n",
    ")\n",
    "registered_model_name = configs[\"registered_model_name\"]\n",
    "\n",
    "data_path = (\n",
    "    root_dir.parents[1] / \"Downloads\" / \"sales-walmart\" / \"Walmart_Sales.csv\"\n",
    ")  # change this to your data path\n",
    "\n",
    "data_processor = SalesDataProcessor(path=data_path, configs=configs)\n",
    "\n",
    "url = \"http://localhost:5000/invocations\"\n",
    "\n",
    "_, x_test, _, y_test = data_processor.create_train_test_split()\n",
    "\n",
    "# predicting for the store store_id\n",
    "store_id = 3\n",
    "x_test = x_test[x_test[\"Store\"] == store_id]\n",
    "y_test = y_test[y_test[\"Store\"] == store_id]\n",
    "\n",
    "payload = {\n",
    "    \"dataframe_split\": x_test.to_dict(orient=\"split\"),\n",
    "    \"params\": {\"store_id\": str(store_id)},\n",
    "}\n",
    "headers = {\"Content-Type\": \"application/json\"}\n",
    "response = httpx.post(url, json=payload, headers=headers)"
   ]
  },
  {
   "cell_type": "code",
   "execution_count": null,
   "id": "78be179e",
   "metadata": {},
   "outputs": [],
   "source": [
    "response.json()"
   ]
  },
  {
   "cell_type": "code",
   "execution_count": null,
   "id": "eae4fa06",
   "metadata": {},
   "outputs": [],
   "source": [
    "pd.DataFrame({\n",
    "    \"predictions\": response.json()[\"predictions\"],    \n",
    "    \"target\": y_test[\"Weekly_Sales\"].values,\n",
    "}).plot()"
   ]
  },
  {
   "cell_type": "code",
   "execution_count": null,
   "id": "38c620a3",
   "metadata": {},
   "outputs": [],
   "source": []
  }
 ],
 "metadata": {
  "kernelspec": {
   "display_name": ".venv",
   "language": "python",
   "name": "python3"
  },
  "language_info": {
   "codemirror_mode": {
    "name": "ipython",
    "version": 3
   },
   "file_extension": ".py",
   "mimetype": "text/x-python",
   "name": "python",
   "nbconvert_exporter": "python",
   "pygments_lexer": "ipython3",
   "version": "3.11.9"
  }
 },
 "nbformat": 4,
 "nbformat_minor": 5
}
