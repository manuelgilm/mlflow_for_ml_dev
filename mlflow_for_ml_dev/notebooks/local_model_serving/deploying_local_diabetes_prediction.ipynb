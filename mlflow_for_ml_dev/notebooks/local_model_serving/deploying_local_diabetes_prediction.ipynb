{
 "cells": [
  {
   "cell_type": "markdown",
   "id": "53804752",
   "metadata": {},
   "source": [
    "\n",
    "# Local Model Serving with MLflow"
   ]
  },
  {
   "cell_type": "code",
   "execution_count": 1,
   "id": "1259c087",
   "metadata": {},
   "outputs": [],
   "source": [
    "import httpx\n",
    "import json\n",
    "import mlflow\n",
    "from mlflow_for_ml_dev.src.utils.folder_operations import get_project_root\n",
    "\n",
    "# set mlflow tracking uri\n",
    "mlflow.set_tracking_uri(uri=(get_project_root() / 'mlruns').as_uri())"
   ]
  },
  {
   "cell_type": "markdown",
   "id": "1f7528cd",
   "metadata": {},
   "source": [
    "# Scoring diabetes predictor"
   ]
  },
  {
   "cell_type": "markdown",
   "id": "738559da",
   "metadata": {},
   "source": [
    "```shell\n",
    "mlflow models serve --options\n",
    "```\n",
    "\n",
    "To run the code below make sure you deploy the model using.\n",
    "\n",
    "`poetry run mlflow models serve --model-uri models:/Diabetes_Prediction_Model@production --env-manager local`"
   ]
  },
  {
   "cell_type": "code",
   "execution_count": 2,
   "id": "ecd62a4d",
   "metadata": {},
   "outputs": [],
   "source": [
    "\n",
    "url = \"http://127.0.0.1:8080/invocations\"\n",
    "\n",
    "payload = {\n",
    "    \"dataframe_split\": {\n",
    "        \"columns\": [\n",
    "            \"gender\",\n",
    "            \"age\",\n",
    "            \"hypertension\",\n",
    "            \"heart_disease\",\n",
    "            \"smoking_history\",\n",
    "            \"bmi\",\n",
    "            \"HbA1c_level\",\n",
    "            \"blood_glucose_level\",\n",
    "        ],\n",
    "        \"data\": [\n",
    "            [\"Female\", 3.0, 0, 0, \"No Info\", 21.0, 5.0, 145],\n",
    "            [\"Male\", 63.0, 0, 0, \"former\", 25.32, 3.5, 200]\n",
    "        ],\n",
    "    }\n",
    "}\n",
    "headers = {\"Content-Type\": \"application/json\"}\n",
    "response = httpx.post(url, data=json.dumps(payload), headers=headers)"
   ]
  },
  {
   "cell_type": "code",
   "execution_count": 3,
   "id": "5360011a",
   "metadata": {},
   "outputs": [
    {
     "data": {
      "text/plain": [
       "[{'predictions': 0}, {'predictions': 0}]"
      ]
     },
     "execution_count": 3,
     "metadata": {},
     "output_type": "execute_result"
    }
   ],
   "source": [
    "response.json()[\"predictions\"]"
   ]
  },
  {
   "cell_type": "markdown",
   "id": "1350fbc3",
   "metadata": {},
   "source": [
    "## Using Parameters to get probabilities"
   ]
  },
  {
   "cell_type": "code",
   "execution_count": 4,
   "id": "61921b02",
   "metadata": {},
   "outputs": [],
   "source": [
    "url = \"http://127.0.0.1:8080/invocations\"\n",
    "\n",
    "payload = {\n",
    "    \"dataframe_split\": {\n",
    "        \"columns\": [\n",
    "            \"gender\",\n",
    "            \"age\",\n",
    "            \"hypertension\",\n",
    "            \"heart_disease\",\n",
    "            \"smoking_history\",\n",
    "            \"bmi\",\n",
    "            \"HbA1c_level\",\n",
    "            \"blood_glucose_level\",\n",
    "        ],\n",
    "        \"data\": [\n",
    "            [\"Female\", 3.0, 0, 0, \"No Info\", 21.0, 5.0, 145],\n",
    "            [\"Male\", 63.0, 0, 0, \"former\", 25.32, 3.5, 2000000]\n",
    "        ]\n",
    "    },\n",
    "    \"params\":{\n",
    "        \"probabilities\":True\n",
    "    }\n",
    "}\n",
    "headers = {\"Content-Type\": \"application/json\"}\n",
    "response = httpx.post(url, data=json.dumps(payload), headers=headers)"
   ]
  },
  {
   "cell_type": "code",
   "execution_count": 5,
   "id": "6b66353e",
   "metadata": {},
   "outputs": [
    {
     "data": {
      "text/plain": [
       "[{'predictions': 0, 'prob_0': 1.0, 'prob_1': 0.0},\n",
       " {'predictions': 1, 'prob_0': 0.17, 'prob_1': 0.83}]"
      ]
     },
     "execution_count": 5,
     "metadata": {},
     "output_type": "execute_result"
    }
   ],
   "source": [
    "response.json()[\"predictions\"]"
   ]
  },
  {
   "cell_type": "code",
   "execution_count": null,
   "id": "91c3cf48",
   "metadata": {},
   "outputs": [],
   "source": []
  }
 ],
 "metadata": {
  "kernelspec": {
   "display_name": ".venv",
   "language": "python",
   "name": "python3"
  },
  "language_info": {
   "codemirror_mode": {
    "name": "ipython",
    "version": 3
   },
   "file_extension": ".py",
   "mimetype": "text/x-python",
   "name": "python",
   "nbconvert_exporter": "python",
   "pygments_lexer": "ipython3",
   "version": "3.11.9"
  }
 },
 "nbformat": 4,
 "nbformat_minor": 5
}
